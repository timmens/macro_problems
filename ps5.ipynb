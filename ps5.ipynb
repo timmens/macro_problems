{
 "cells": [
  {
   "cell_type": "code",
   "execution_count": 1,
   "metadata": {},
   "outputs": [],
   "source": [
    "import numpy as np\n",
    "import pandas as pd\n",
    "import seaborn as sns\n",
    "import matplotlib.pyplot as plt\n",
    "\n",
    "import scipy.linalg\n",
    "\n",
    "sns.set_style(\"whitegrid\")"
   ]
  },
  {
   "cell_type": "markdown",
   "metadata": {},
   "source": [
    "### Coefficients"
   ]
  },
  {
   "cell_type": "code",
   "execution_count": 2,
   "metadata": {},
   "outputs": [],
   "source": [
    "y = .5  # persistence of technology LOM\n",
    "g = .1\n",
    "beta = .99\n",
    "alpha = 0\n",
    "gamma = 0"
   ]
  },
  {
   "cell_type": "markdown",
   "metadata": {},
   "source": [
    "### Steady State Variables\n",
    "\n",
    "*In the following variable names: 'ss' ~ 'steady state'.*"
   ]
  },
  {
   "cell_type": "code",
   "execution_count": 3,
   "metadata": {},
   "outputs": [],
   "source": [
    "ss_return = 1 / beta\n",
    "ss_consum = y - g\n",
    "\n",
    "rho_1 = (-beta**2 * ss_consum * alpha) / (1-beta)**2 + ss_consum / (1-beta) + 1 / beta\n",
    "rho_2 = (ss_consum * alpha) / (ss_return-1)**2 - alpha\n",
    "rho_3 = -ss_consum * beta**2 / (1-beta)**2\n",
    "rho_4 = ss_consum * beta**2 / (1-beta)**2 - 1\n",
    "\n",
    "tmp0 = (gamma - 1 / beta)\n",
    "tmp1 = tmp0 * rho_3 - rho_4\n",
    "tmp2 = tmp0 * rho_1 - rho_2"
   ]
  },
  {
   "cell_type": "markdown",
   "metadata": {},
   "source": [
    "### Dynamic System\n",
    "\n",
    "*The matrices can be constructed in a similar fashion as on the last problem set.*"
   ]
  },
  {
   "cell_type": "code",
   "execution_count": 4,
   "metadata": {},
   "outputs": [],
   "source": [
    "A = np.array([ \n",
    "    [1, rho_1, 0, 0],\n",
    "    [0, 1    , 0, 0],\n",
    "    [0, 0    , 1, 0],\n",
    "    [0, 0    , 0, 1],\n",
    "])\n",
    "\n",
    "B = np.array([\n",
    "    [-tmp0, -rho_2    , tmp1          , tmp2      ],\n",
    "    [0    , alpha*beta, beta          , alpha*beta],\n",
    "    [0    , 0         , 0             , 0         ],\n",
    "    [0    , 0         , rho_3 / rho_1 , 1         ],\n",
    "])\n",
    "\n",
    "C = np.array([tmp0, 0, 0, 0])"
   ]
  },
  {
   "cell_type": "markdown",
   "metadata": {},
   "source": [
    "In the function ``scipy.linalg.ordqz`` I set ``sort=\"ouc\"`` which stands for outside unit circle. This achieves the desired order for our problem. *(Here I am reusing the code written for the 4th problem set; see [here](https://nbviewer.jupyter.org/github/timmens/macro_problems/blob/main/ps4.ipynb?flush_cache=True).)*"
   ]
  },
  {
   "cell_type": "code",
   "execution_count": 5,
   "metadata": {},
   "outputs": [],
   "source": [
    "S, T, _, _, Q, Z =  scipy.linalg.ordqz(A, B, sort=\"ouc\")"
   ]
  },
  {
   "cell_type": "code",
   "execution_count": 6,
   "metadata": {},
   "outputs": [],
   "source": [
    "eigen_values = np.diag(T) / np.diag(S)\n",
    "eigen_values = np.round(eigen_values, decimals=15)\n",
    "\n",
    "I = np.where(np.abs(eigen_values) < 1)[0]\n",
    "\n",
    "ns = len(I)\n",
    "\n",
    "S_11, T_11, Z_11 = (m[:ns, :ns] for m in (S, T, Z))\n",
    "Z_21 = Z[ns:, :ns]\n",
    "\n",
    "Z_11_inverse = np.linalg.inv(Z_11)"
   ]
  },
  {
   "cell_type": "code",
   "execution_count": 7,
   "metadata": {},
   "outputs": [],
   "source": [
    "S2S = Z_11 @ np.linalg.inv(S_11) @ T_11 @ np.linalg.inv(Z_11) # states to states\n",
    "S2C = Z_21 @ np.linalg.inv(Z_11)                              # states to controls"
   ]
  },
  {
   "cell_type": "markdown",
   "metadata": {},
   "source": [
    "### Actual Computation of the Impulse Response"
   ]
  },
  {
   "cell_type": "code",
   "execution_count": 8,
   "metadata": {},
   "outputs": [],
   "source": [
    "n_periods = 5\n",
    "state = np.array([39, 5])\n",
    "result = np.empty((n_periods, 4))"
   ]
  },
  {
   "cell_type": "code",
   "execution_count": 9,
   "metadata": {},
   "outputs": [],
   "source": [
    "for t in range(n_periods):\n",
    "    controls = S2C @ state\n",
    "    updated_state = S2S @ state\n",
    "    result[t, :2] = updated_state\n",
    "    result[t, 2:4] = controls\n",
    "    state = updated_state"
   ]
  },
  {
   "cell_type": "markdown",
   "metadata": {},
   "source": [
    "### Plotting\n",
    "\n",
    "*The result seems false but I do not know how to fix it at the moment.*"
   ]
  },
  {
   "cell_type": "code",
   "execution_count": 10,
   "metadata": {},
   "outputs": [],
   "source": [
    "df = pd.DataFrame(\n",
    "    result[:, :3],\n",
    "    columns=[\"debt\", \"inflation\", \"monetary_shock\"],\n",
    "    index=np.arange(n_periods)\n",
    ")\n",
    "df.index.name = \"periods\"\n",
    "df = df.reset_index().melt(id_vars=\"periods\", var_name=\"variable\")"
   ]
  },
  {
   "cell_type": "code",
   "execution_count": 11,
   "metadata": {},
   "outputs": [
    {
     "data": {
      "image/png": "[encoded data removed]",
      "text/plain": [
       "<Figure size 1080x576 with 1 Axes>"
      ]
     },
     "metadata": {},
     "output_type": "display_data"
    }
   ],
   "source": [
    "fig, ax = plt.subplots(1)\n",
    "fig.set_size_inches(15, 8)\n",
    "\n",
    "sns.lineplot(\n",
    "    x=\"periods\",\n",
    "    y=\"value\",\n",
    "    data=df,\n",
    "    hue=\"variable\",\n",
    "    legend=\"brief\",\n",
    "    linewidth=2,\n",
    "    ax=ax,\n",
    ")\n",
    "\n",
    "ax.set(xlabel=\"Periods\")\n",
    "ax.set_frame_on(False)\n",
    "ax.xaxis.label.set_size(13)\n",
    "ax.yaxis.label.set_size(13)\n",
    "plt.legend(prop={'size': 13})\n",
    "plt.show()"
   ]
  }
 ],
 "metadata": {
  "kernelspec": {
   "display_name": "Python 3",
   "language": "python",
   "name": "python3"
  },
  "language_info": {
   "codemirror_mode": {
    "name": "ipython",
    "version": 3
   },
   "file_extension": ".py",
   "mimetype": "text/x-python",
   "name": "python",
   "nbconvert_exporter": "python",
   "pygments_lexer": "ipython3",
   "version": "3.7.9"
  }
 },
 "nbformat": 4,
 "nbformat_minor": 4
}
