{
 "cells": [
  {
   "cell_type": "markdown",
   "metadata": {},
   "source": [
    "### Preliminaries\n",
    "\n",
    "You have to install numpy, pandas, seaborn and numba."
   ]
  },
  {
   "cell_type": "code",
   "execution_count": 1,
   "metadata": {},
   "outputs": [],
   "source": [
    "import numpy as np\n",
    "import pandas as pd\n",
    "import seaborn as sns\n",
    "\n",
    "from numba import njit\n",
    "\n",
    "sns.set_style(\"whitegrid\")"
   ]
  },
  {
   "cell_type": "markdown",
   "metadata": {},
   "source": [
    "## Analytical Solution"
   ]
  },
  {
   "cell_type": "code",
   "execution_count": 2,
   "metadata": {},
   "outputs": [],
   "source": [
    "def alpha_one(alpha, beta):\n",
    "    \"\"\"Alpha one as computed in exercise 1.8\n",
    "        \n",
    "    Args:\n",
    "        alpha (float): Capital exponent in production function\n",
    "            F(k, l) = A * k ** alpha; 0 <= alpha.\n",
    "        beta (float): Discount factor in household problem; 0 < beta < 1.\n",
    "        \n",
    "    Returns:\n",
    "        out (float): Value of alpha_0.\n",
    "        \n",
    "    \"\"\"\n",
    "    return alpha / (1 - alpha * beta)"
   ]
  },
  {
   "cell_type": "code",
   "execution_count": 3,
   "metadata": {},
   "outputs": [],
   "source": [
    "def alpha_zero(beta, technology, alpha_1):\n",
    "    \"\"\"Alpha zero as computed in exercise 1.8\n",
    "    \n",
    "    This computes alpha zero dependent in alpha_1. In principle alpha_0\n",
    "    can be formulated without a dependence on alpha_1 but since I am bad\n",
    "    in \"algebra\" I avoid taking the risk of making an error.\n",
    "    \n",
    "    Args:\n",
    "        beta (float): Discount factor in household problem; 0 < beta < 1.\n",
    "        technology (float): Technology parameter of production function (A) in \n",
    "            F(k, l) = A * k ** alpha; 0 <= A.\n",
    "        alpha_one (float): The computed coefficient using function ``alpha_one``.\n",
    "        \n",
    "    Returns:\n",
    "        out (float): Value of alpha_0.\n",
    "    \n",
    "    \"\"\"\n",
    "    alpha_one_beta = alpha_1 * beta\n",
    "    out = alpha_one_beta * np.log(alpha_one_beta) + (1 + alpha_one_beta) * np.log(\n",
    "        technology / (1 + alpha_one_beta)\n",
    "    )\n",
    "    out /= 1 - beta\n",
    "    return out"
   ]
  },
  {
   "cell_type": "code",
   "execution_count": 4,
   "metadata": {},
   "outputs": [],
   "source": [
    "def value_function_guess(capital, alpha_0, alpha_1):\n",
    "    \"\"\"Value function guess.\n",
    "    \n",
    "    Args:\n",
    "        capital (float or np.ndarray): Capital.\n",
    "        alpha_0 (float): Coefficient.\n",
    "        alpha_1 (float): Coefficient.\n",
    "        \n",
    "    \n",
    "    Returns:\n",
    "        value (float or np.ndarray): Value given capital.\n",
    "        \n",
    "    \"\"\"\n",
    "    value = alpha_0 + alpha_1 * np.log(capital)\n",
    "    return value"
   ]
  },
  {
   "cell_type": "markdown",
   "metadata": {},
   "source": [
    "## Numerical Solution\n",
    "\n",
    "#### Auxiliary Functions:"
   ]
  },
  {
   "cell_type": "code",
   "execution_count": 5,
   "metadata": {},
   "outputs": [],
   "source": [
    "@njit\n",
    "def production_func(capital, technology, alpha):\n",
    "    \"\"\"Production function.\n",
    "    \n",
    "    F(k, l) = A * k ** alpha, where k denotes capital.\n",
    "    \n",
    "    Args:\n",
    "        capital (float or np.ndarray): Capital.\n",
    "        technology (float): Technology parameter of production function (A) in \n",
    "            F(k, l) = A * k ** alpha; 0 <= A.\n",
    "        alpha (float): Capital exponent in production function.\n",
    "            F(k, l) = A * k ** alpha; 0 <= alpha.\n",
    "    \n",
    "    Returns:\n",
    "        production (float or np.ndarray): Production level.\n",
    "        \n",
    "    \"\"\"\n",
    "    production = technology * capital ** alpha\n",
    "    return production"
   ]
  },
  {
   "cell_type": "code",
   "execution_count": 6,
   "metadata": {},
   "outputs": [],
   "source": [
    "@njit\n",
    "def utility_func(capital_today, capital_tomorrow, alpha, technology):\n",
    "    \"\"\"Utility function only dependent on capital.\n",
    "    \n",
    "    Utility function is given as U(c) where c is the level of consumption. The level\n",
    "    of consumption can be substituted by c = log(f(k) - k'), where f denotes the\n",
    "    production function, k the level of capital today and k' the level of capital\n",
    "    tomorrow.\n",
    "    \n",
    "    Args:\n",
    "        capital_today (float or np.ndarray): Capital levels today.\n",
    "        capital_tomorrow (float or np.ndarray): Capital levels tomorrow.\n",
    "        alpha (float): Capital exponent in production function.\n",
    "            F(k, l) = A * k ** alpha; 0 <= alpha.\n",
    "        technology (float): Technology parameter of production function (A) in \n",
    "            F(k, l) = A * k ** alpha; 0 <= A.\n",
    "        \n",
    "    Returns:\n",
    "        utility (float or np.ndarray): Utility level given \"consumption\". \n",
    "    \n",
    "    \"\"\"\n",
    "    utility = np.log(\n",
    "        production_func(capital_today, technology, alpha) - capital_tomorrow\n",
    "    )\n",
    "    return utility"
   ]
  },
  {
   "cell_type": "code",
   "execution_count": 7,
   "metadata": {},
   "outputs": [],
   "source": [
    "@njit\n",
    "def sup_norm_metric(arr1, arr2):\n",
    "    \"\"\"Supremum norm metric defined on arrays.\n",
    "    \n",
    "    Computes, with n := length(arr1),\n",
    "    \n",
    "        max_{i=1,...,n} |arr1_i - arr2_i|\n",
    "    \n",
    "    Args:\n",
    "        arr1 (np.ndarray): Array of length n.\n",
    "        arr2 (np.ndarray): Array of length n.\n",
    "        \n",
    "    Returns:\n",
    "        distance (float): Supremum norm.\n",
    "        \n",
    "    \"\"\"\n",
    "    distance = np.max(np.abs(arr1 - arr2))\n",
    "    return distance"
   ]
  },
  {
   "cell_type": "code",
   "execution_count": 8,
   "metadata": {},
   "outputs": [],
   "source": [
    "@njit\n",
    "def resize(array2d, new_size):\n",
    "    \"\"\"Resize two dimensional array.\n",
    "    \n",
    "    Args:\n",
    "        array2d (np.ndarray): Two dim numpy array.\n",
    "        new_size (tuple): New dimensions.\n",
    "        \n",
    "    Returns:\n",
    "        new (np.ndarray): Array with new dimensions where new\n",
    "            entries are filled with zeroes.\n",
    "            \n",
    "    \"\"\"\n",
    "    new = np.zeros(new_size, array2d.dtype)\n",
    "    n, m = array2d.shape\n",
    "    new[:n, :m] = array2d\n",
    "    return new"
   ]
  },
  {
   "cell_type": "code",
   "execution_count": 9,
   "metadata": {},
   "outputs": [],
   "source": [
    "@njit\n",
    "def double_array_size(array):\n",
    "    \"\"\"Double array size.\n",
    "    \n",
    "    Args:\n",
    "        array (np.ndarray): Two dim. numpy array of shape (n, m).\n",
    "    \n",
    "    Returns:\n",
    "        array (np.ndarray): Two dim. numpy array of shape (2*n, m) with the last n rows\n",
    "            filled with zeros.\n",
    "    \n",
    "    \"\"\"\n",
    "    array = array.copy()\n",
    "    nrows, ncols = array.shape\n",
    "    array = resize(array, (2 * nrows, ncols))\n",
    "    return array"
   ]
  },
  {
   "cell_type": "markdown",
   "metadata": {},
   "source": [
    "#### Algorithm (Value Function Iteration):"
   ]
  },
  {
   "cell_type": "code",
   "execution_count": 10,
   "metadata": {},
   "outputs": [],
   "source": [
    "@njit\n",
    "def _internal_value_func_iteration(\n",
    "    alpha, beta, technology, capital_grid, tolerance, initial_array_size,\n",
    "):\n",
    "    \"\"\"Internal value function iterations.\n",
    "    \n",
    "    \"\"\"\n",
    "    distance = np.inf\n",
    "\n",
    "    value_array = np.zeros((initial_array_size, len(capital_grid)))\n",
    "\n",
    "    n = 1\n",
    "    while np.abs(distance) > tolerance:\n",
    "\n",
    "        # initial array size is preallocated and must be increased if necessary\n",
    "        if n == initial_array_size:\n",
    "            value_array = double_array_size(value_array)\n",
    "            initial_array_size *= 2\n",
    "\n",
    "        # algorithm:\n",
    "        for j, capital in enumerate(capital_grid):\n",
    "            old_values = value_array[n - 1, :]\n",
    "            to_max = (\n",
    "                utility_func(capital, capital_grid, alpha, technology)\n",
    "                + beta * old_values\n",
    "            )\n",
    "            value_array[n, j] = np.max(to_max)\n",
    "\n",
    "        distance = sup_norm_metric(value_array[n - 1, :], value_array[n, :])\n",
    "        n += 1\n",
    "\n",
    "    return value_array, n"
   ]
  },
  {
   "cell_type": "code",
   "execution_count": 11,
   "metadata": {},
   "outputs": [],
   "source": [
    "def value_func_iteration(\n",
    "    alpha,\n",
    "    beta,\n",
    "    technology,\n",
    "    capital_grid,\n",
    "    tolerance=10e-6,\n",
    "    return_info=False,\n",
    "    initial_array_size=1_000,\n",
    "):\n",
    "    \"\"\"Value function iteration.\n",
    "    \n",
    "    Args:\n",
    "        alpha (float): Capital exponent in production function.\n",
    "            F(k, l) = A * k ** alpha; 0 <= alpha.\n",
    "        beta (float): Discount factor in household problem; 0 < beta < 1.\n",
    "        technology (float): Technology parameter of production function (A) in \n",
    "            F(k, l) = A * k ** alpha; 0 <= A.\n",
    "        capital_grid (np.ndarray or list-like): List of discretized capital\n",
    "            values of which we optimize.\n",
    "        tolerance (float): Positive float indicating the tolerance for the\n",
    "            numerical approximation. Defaults to 10e-6.\n",
    "        return_info (bool): Should extra information be returned? Defaults to\n",
    "            True.\n",
    "        initial_array_size (int): Initial size of array which is filled during\n",
    "            the iteration process. Defaults to 1_000.\n",
    "\n",
    "    \n",
    "    Returns:\n",
    "        result (pd.DataFrame): Frame containing values given capital grid.\n",
    "        info (dict): Extra information on the optimization; only returned if\n",
    "            return_info is True.\n",
    "    \n",
    "    \"\"\"\n",
    "    capital_grid = np.array(capital_grid)\n",
    "\n",
    "    value_array, n = _internal_value_func_iteration(\n",
    "        alpha, beta, technology, capital_grid, tolerance, initial_array_size\n",
    "    )\n",
    "\n",
    "    info = {\n",
    "        \"number_of_iterations\": n - 1,\n",
    "        \"value_array\": value_array[:n, :],\n",
    "    }\n",
    "\n",
    "    result = np.concatenate(\n",
    "        (capital_grid.reshape(-1, 1), value_array[n - 1, :, np.newaxis]), axis=1\n",
    "    )\n",
    "    result = pd.DataFrame(result, columns=[\"capital\", \"numerical\"])\n",
    "\n",
    "    out = (result, info) if return_info else result\n",
    "    return out"
   ]
  },
  {
   "cell_type": "markdown",
   "metadata": {},
   "source": [
    "## Computation"
   ]
  },
  {
   "cell_type": "markdown",
   "metadata": {},
   "source": [
    "#### Exercise code (I do not like repeating myself...):"
   ]
  },
  {
   "cell_type": "code",
   "execution_count": 31,
   "metadata": {},
   "outputs": [],
   "source": [
    "alpha = 0.3\n",
    "beta = 0.6\n",
    "technology = 20\n",
    "\n",
    "\n",
    "def exercise(capital_grid):\n",
    "    df = value_func_iteration(alpha, beta, technology, CAPITAL_GRID)\n",
    "\n",
    "    alpha_1 = alpha_one(alpha, beta)\n",
    "    alpha_0 = alpha_zero(beta, technology, alpha_1)\n",
    "\n",
    "    values_analytical = value_function_guess(CAPITAL_GRID, alpha_0, alpha_1)\n",
    "\n",
    "    df[\"analytical\"] = values_analytical\n",
    "    df = df.melt(id_vars=\"capital\", value_name=\"value\", var_name=\"estimation_type\")\n",
    "\n",
    "    sns.lineplot(x=\"capital\", y=\"value\", hue=\"estimation_type\", data=df)"
   ]
  },
  {
   "cell_type": "markdown",
   "metadata": {},
   "source": [
    "#### Exercise 1.9 and 1.10"
   ]
  },
  {
   "cell_type": "code",
   "execution_count": 32,
   "metadata": {},
   "outputs": [],
   "source": [
    "CAPITAL_GRID = np.arange(2, 12, 2)"
   ]
  },
  {
   "cell_type": "code",
   "execution_count": 33,
   "metadata": {},
   "outputs": [
    {
     "data": {
      "image/png": "[encoded data removed]",
      "text/plain": [
       "<Figure size 432x288 with 1 Axes>"
      ]
     },
     "metadata": {},
     "output_type": "display_data"
    }
   ],
   "source": [
    "# first function call takes a bit longer than expected since it is compiled with\n",
    "# numba. All following function calls are fast.\n",
    "exercise(CAPITAL_GRID)"
   ]
  },
  {
   "cell_type": "markdown",
   "metadata": {},
   "source": [
    "#### Exericse 1.11 and 1.12"
   ]
  },
  {
   "cell_type": "code",
   "execution_count": 36,
   "metadata": {},
   "outputs": [],
   "source": [
    "CAPITAL_GRID = np.linspace(2, 10, num=1000)"
   ]
  },
  {
   "cell_type": "code",
   "execution_count": 37,
   "metadata": {},
   "outputs": [
    {
     "data": {
      "image/png": "[encoded data removed]",
      "text/plain": [
       "<Figure size 432x288 with 1 Axes>"
      ]
     },
     "metadata": {},
     "output_type": "display_data"
    }
   ],
   "source": [
    "exercise(CAPITAL_GRID)"
   ]
  }
 ],
 "metadata": {
  "kernelspec": {
   "display_name": "Python 3",
   "language": "python",
   "name": "python3"
  },
  "language_info": {
   "codemirror_mode": {
    "name": "ipython",
    "version": 3
   },
   "file_extension": ".py",
   "mimetype": "text/x-python",
   "name": "python",
   "nbconvert_exporter": "python",
   "pygments_lexer": "ipython3",
   "version": "3.7.9"
  }
 },
 "nbformat": 4,
 "nbformat_minor": 4
}
