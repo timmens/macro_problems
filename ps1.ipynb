{
 "cells": [
  {
   "cell_type": "code",
   "execution_count": 77,
   "metadata": {},
   "outputs": [],
   "source": [
    "from pathlib import Path\n",
    "\n",
    "import numpy as np\n",
    "import pandas as pd\n",
    "\n",
    "import seaborn as sns\n",
    "import matplotlib.pyplot as plt"
   ]
  },
  {
   "cell_type": "code",
   "execution_count": 78,
   "metadata": {},
   "outputs": [],
   "source": [
    "DATA_PATH = Path(\"data/CNEF_PSID\")\n",
    "\n",
    "TEN_PERCENT_OF_ANNUAL_FULLTIME_HOURS = 208\n",
    "IS_HEAD = 'head           1'\n",
    "\n",
    "variables = {\n",
    "    # \"x11101ll\": \"individual\",\n",
    "    \"x11102\": \"household\", \n",
    "    \"i11102\": \"income\",\n",
    "    \"d11105\": \"relationship_to_hh_head\",\n",
    "    \"d11101\": \"age\",\n",
    "    \"d11106\": \"num_persons\",\n",
    "    \"d11107\": \"num_children\",\n",
    "    \"d11109\": \"education\",\n",
    "    \"e11101\": \"hours\",\n",
    "}\n",
    "\n",
    "def yearly_variables(year):\n",
    "    as_dict = {f\"{key}{year}\": value for key, value in variables.items()}\n",
    "    as_dict = dict(as_dict, **{\"x11101ll\": \"individual\"})\n",
    "    as_list = [f\"{key}{year}\" for key in variables.keys()]\n",
    "    as_list.append(\"x11101ll\")\n",
    "    return as_dict, as_list\n",
    "\n",
    "# see codebook for details: https://www.cnefdata.org/documentation/codebooks"
   ]
  },
  {
   "cell_type": "markdown",
   "metadata": {},
   "source": [
    "## Load Data"
   ]
  },
  {
   "cell_type": "code",
   "execution_count": 79,
   "metadata": {},
   "outputs": [],
   "source": [
    "def _load_data_given_year(year):\n",
    "    \"\"\"Load data and assign new columns.\"\"\"\n",
    "    renamer, cols = yearly_variables(year)\n",
    "    \n",
    "    df = pd.read_stata(DATA_PATH / f\"pequiv{year}.dta\", columns=cols)\n",
    "    \n",
    "    df = df.rename(columns=renamer)\n",
    "    df = df.set_index([\"household\", \"individual\"])\n",
    "    df = df.dropna(how=\"all\")\n",
    "    df = df.assign(**{\"year\": year, \"num_adults\": df.num_persons - df.num_children})\n",
    "    df = df.convert_dtypes()\n",
    "    df = df.reset_index(level=1)\n",
    "    \n",
    "    total_hours = df.groupby(by=\"household\")[\"hours\"].sum()\n",
    "    df = df.assign(**{\"total_hours\": total_hours})\n",
    "    df = df.set_index(\"individual\", append=True).sort_index()\n",
    "    \n",
    "    return df"
   ]
  },
  {
   "cell_type": "code",
   "execution_count": 80,
   "metadata": {},
   "outputs": [],
   "source": [
    "def _subset_data(df):\n",
    "    \"\"\"Subset data frame.\"\"\"\n",
    "    df = (\n",
    "        df.reset_index(level=\"individual\", drop=True)\n",
    "        .query(\"relationship_to_hh_head == @IS_HEAD\")\n",
    "        .query(\"25 <= age < 56\")\n",
    "        .query(\"num_adults == 2\")\n",
    "        .query(\"total_hours >= @TEN_PERCENT_OF_ANNUAL_FULLTIME_HOURS\")\n",
    "        .drop(\n",
    "            [\n",
    "                \"relationship_to_hh_head\",\n",
    "                \"num_persons\",\n",
    "                \"num_children\",\n",
    "                \"num_adults\",\n",
    "                \"total_hours\",\n",
    "            ],\n",
    "            axis=1,\n",
    "        )\n",
    "        .set_index(\"year\", append=True)\n",
    "        .swaplevel()\n",
    "        .sort_index()\n",
    "        .dropna()\n",
    "    )\n",
    "    return df"
   ]
  },
  {
   "cell_type": "code",
   "execution_count": 81,
   "metadata": {},
   "outputs": [],
   "source": [
    "def load_data():\n",
    "    \"\"\"Load, subset and merge data for years 1980 to 1997\"\"\"\n",
    "    dfs = [\n",
    "        _subset_data(_load_data_given_year(year)) for year in range(80, 98)\n",
    "    ]\n",
    "    df = pd.concat(dfs)\n",
    "    return df"
   ]
  },
  {
   "cell_type": "code",
   "execution_count": 82,
   "metadata": {},
   "outputs": [],
   "source": [
    "df = load_data()"
   ]
  }
 ],
 "metadata": {
  "kernelspec": {
   "display_name": "Python 3",
   "language": "python",
   "name": "python3"
  },
  "language_info": {
   "codemirror_mode": {
    "name": "ipython",
    "version": 3
   },
   "file_extension": ".py",
   "mimetype": "text/x-python",
   "name": "python",
   "nbconvert_exporter": "python",
   "pygments_lexer": "ipython3",
   "version": "3.7.10"
  }
 },
 "nbformat": 4,
 "nbformat_minor": 4
}
